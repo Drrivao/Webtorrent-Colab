{
  "nbformat": 4,
  "nbformat_minor": 0,
  "metadata": {
    "colab": {
      "provenance": [],
      "collapsed_sections": [],
      "authorship_tag": "ABX9TyN05rHp48HZCXPhBsQpjOv0",
      "include_colab_link": true
    },
    "kernelspec": {
      "name": "python3",
      "display_name": "Python 3"
    },
    "language_info": {
      "name": "python"
    }
  },
  "cells": [
    {
      "cell_type": "markdown",
      "metadata": {
        "id": "view-in-github",
        "colab_type": "text"
      },
      "source": [
        "<a href=\"https://colab.research.google.com/github/Drrivao/Webtorrent-Colab/blob/main/Webtorrent_colab.ipynb\" target=\"_parent\"><img src=\"https://colab.research.google.com/assets/colab-badge.svg\" alt=\"Open In Colab\"/></a>"
      ]
    },
    {
      "cell_type": "code",
      "source": [
        "#@title *Install webtorrent*\n",
        "from google.colab import drive\n",
        "DRIVE=\"/content/drive/Shareddrives/Team Drive\"#@param {type:\"string\"}\n",
        "drive.mount('/content/drive')\n",
        "%cd $DRIVE\n",
        "!npm install webtorrent-cli -g"
      ],
      "metadata": {
        "cellView": "form",
        "id": "dbhYvA6BXQBx"
      },
      "execution_count": null,
      "outputs": []
    },
    {
      "cell_type": "code",
      "source": [
        "#@title *Start*\n",
        "TORRENT=\"file_name1.torrent;file_name2.torrent\"#@param {type:\"string\"}\n",
        "KEEP_SEEDING = True #@param {type:\"boolean\"}\n",
        "TORRENT=TORRENT.split(';')\n",
        "\n",
        "def main(list,option):\n",
        "  TORRENT=\"\\n\".join([\n",
        "      f\"webtorrent seed '{x}' {option} &\" for x in list\n",
        "  ])\n",
        "  return TORRENT\n",
        "if KEEP_SEEDING is True:torrents=main(TORRENT,'--keep-seeding')\n",
        "else:torrents=main(TORRENT,'')\n",
        "with open('tornt.sh','w') as f:\n",
        "  f.write(f'#!/bin/bash\\n{torrents}')\n",
        "\n",
        "!. tornt.sh"
      ],
      "metadata": {
        "cellView": "form",
        "id": "jkmAiJTd2HOa"
      },
      "execution_count": null,
      "outputs": []
    }
  ]
}