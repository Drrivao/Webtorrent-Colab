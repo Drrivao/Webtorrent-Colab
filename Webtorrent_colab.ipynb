{
  "cells": [
    {
      "cell_type": "markdown",
      "metadata": {
        "colab_type": "text",
        "id": "view-in-github"
      },
      "source": [
        "<a href=\"https://colab.research.google.com/github/Drrivao/Webtorrent-Colab/blob/main/Webtorrent_colab.ipynb\" target=\"_parent\"><img src=\"https://colab.research.google.com/assets/colab-badge.svg\" alt=\"Open In Colab\"/></a>"
      ]
    },
    {
      "cell_type": "code",
      "execution_count": null,
      "metadata": {
        "cellView": "form",
        "id": "dbhYvA6BXQBx"
      },
      "outputs": [],
      "source": [
        "#@title *Install webtorrent*\n",
        "from google.colab import drive\n",
        "\n",
        "TYPE = \"Shareddrives\" #@param [\"Shareddrives\", \"MyDrive\"]\n",
        "DRIVE=\"Team Drive\"#@param {type:\"string\"}\n",
        "\n",
        "if TYPE == \"MyDrive\":DRIVE=\"/content/drive/MyDrive\"\n",
        "else:DRIVE=f\"/content/drive/Shareddrives/{DRIVE}\"\n",
        "\n",
        "drive.mount('/content/drive')\n",
        "\n",
        "%cd $DRIVE\n",
        "!npm install webtorrent-cli -g"
      ]
    },
    {
      "cell_type": "code",
      "execution_count": null,
      "metadata": {
        "cellView": "form",
        "id": "jkmAiJTd2HOa"
      },
      "outputs": [],
      "source": [
        "#@title *Start*\n",
        "TORRENT=\"file_name1.torrent;file_name2.torrent\"#@param {type:\"string\"}\n",
        "KEEP_SEEDING = True #@param {type:\"boolean\"}\n",
        "TORRENT=TORRENT.split(';')\n",
        "\n",
        "def main(list,option):\n",
        "  TORRENT=\"\\n\".join([\n",
        "      f\"webtorrent seed '{x}' {option} &\" for x in list\n",
        "  ])\n",
        "  return TORRENT\n",
        "if KEEP_SEEDING is True:torrents=main(TORRENT,'--keep-seeding')\n",
        "else:torrents=main(TORRENT,'')\n",
        "with open('tornt.sh','w') as f:\n",
        "  f.write(f'#!/bin/bash\\n{torrents}')\n",
        "\n",
        "!. tornt.sh"
      ]
    }
  ],
  "metadata": {
    "colab": {
      "authorship_tag": "ABX9TyN05rHp48HZCXPhBsQpjOv0",
      "collapsed_sections": [],
      "include_colab_link": true,
      "provenance": []
    },
    "kernelspec": {
      "display_name": "Python 3",
      "name": "python3"
    },
    "language_info": {
      "name": "python"
    }
  },
  "nbformat": 4,
  "nbformat_minor": 0
}
